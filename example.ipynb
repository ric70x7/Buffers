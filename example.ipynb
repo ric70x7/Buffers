{
 "cells": [
  {
   "cell_type": "code",
   "execution_count": 2,
   "metadata": {},
   "outputs": [],
   "source": [
    "import numpy as np\n",
    "import buffers\n",
    "import json"
   ]
  },
  {
   "cell_type": "code",
   "execution_count": 3,
   "metadata": {},
   "outputs": [
    {
     "data": {
      "text/plain": [
       "array([[0.14797966, 5.34760592],\n",
       "       [1.38321642, 1.52562159],\n",
       "       [7.83318949, 2.85342427],\n",
       "       [8.85127758, 6.43360623],\n",
       "       [7.40987656, 3.81298944],\n",
       "       [6.12634751, 2.23948635],\n",
       "       [9.36684536, 9.77633352],\n",
       "       [7.10033904, 5.36336147],\n",
       "       [3.41438698, 8.47000242],\n",
       "       [4.17261384, 7.55858249]])"
      ]
     },
     "execution_count": 3,
     "metadata": {},
     "output_type": "execute_result"
    }
   ],
   "source": [
    "X = np.random.uniform(0, 10, 20).reshape(-1, 2)\n",
    "X"
   ]
  },
  {
   "cell_type": "code",
   "execution_count": 5,
   "metadata": {},
   "outputs": [
    {
     "name": "stdout",
     "output_type": "stream",
     "text": [
      "[[0.14797966216307135, 5.34760591870493], [1.383216421708382, 1.5256215943839657], [7.833189488292857, 2.8534242719039193], [8.851277580629493, 6.433606228332662], [7.409876561229593, 3.8129894359033267], [6.126347514548195, 2.2394863546297827], [9.366845359641342, 9.776333523640597], [7.100339044115382, 5.3633614731198875], [3.414386977640218, 8.47000242193547], [4.172613835859131, 7.55858249386494]]\n"
     ]
    }
   ],
   "source": [
    "js = json.dumps(X.tolist())\n",
    "print(js)"
   ]
  },
  {
   "cell_type": "code",
   "execution_count": 7,
   "metadata": {},
   "outputs": [
    {
     "name": "stdout",
     "output_type": "stream",
     "text": [
      "true\n"
     ]
    }
   ],
   "source": [
    "P = buffers.dock_deploy(js)\n",
    "print(P)"
   ]
  }
 ],
 "metadata": {
  "kernelspec": {
   "display_name": "Python [conda env:disarm]",
   "language": "python",
   "name": "conda-env-disarm-py"
  },
  "language_info": {
   "codemirror_mode": {
    "name": "ipython",
    "version": 3
   },
   "file_extension": ".py",
   "mimetype": "text/x-python",
   "name": "python",
   "nbconvert_exporter": "python",
   "pygments_lexer": "ipython3",
   "version": "3.6.3"
  }
 },
 "nbformat": 4,
 "nbformat_minor": 2
}
