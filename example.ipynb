{
 "cells": [
  {
   "cell_type": "code",
   "execution_count": 1,
   "metadata": {},
   "outputs": [],
   "source": [
    "import numpy as np\n",
    "import buffers"
   ]
  },
  {
   "cell_type": "code",
   "execution_count": 7,
   "metadata": {},
   "outputs": [
    {
     "data": {
      "text/plain": [
       "array([[3.65207393, 6.58854284],\n",
       "       [9.61670232, 5.45437147],\n",
       "       [2.78786321, 0.05444376],\n",
       "       [9.83931782, 0.35793106],\n",
       "       [6.21416119, 7.0738201 ],\n",
       "       [3.36098801, 7.70078862],\n",
       "       [8.49196037, 5.26400634],\n",
       "       [3.70485981, 0.57193351],\n",
       "       [0.23413503, 6.22680502],\n",
       "       [7.76148847, 7.16049001]])"
      ]
     },
     "execution_count": 7,
     "metadata": {},
     "output_type": "execute_result"
    }
   ],
   "source": [
    "X = np.random.uniform(0, 10, 20).reshape(-1, 2)\n",
    "X"
   ]
  },
  {
   "cell_type": "code",
   "execution_count": 8,
   "metadata": {},
   "outputs": [
    {
     "data": {
      "text/html": [
       "<div>\n",
       "<style scoped>\n",
       "    .dataframe tbody tr th:only-of-type {\n",
       "        vertical-align: middle;\n",
       "    }\n",
       "\n",
       "    .dataframe tbody tr th {\n",
       "        vertical-align: top;\n",
       "    }\n",
       "\n",
       "    .dataframe thead th {\n",
       "        text-align: right;\n",
       "    }\n",
       "</style>\n",
       "<table border=\"1\" class=\"dataframe\">\n",
       "  <thead>\n",
       "    <tr style=\"text-align: right;\">\n",
       "      <th></th>\n",
       "      <th>geometry</th>\n",
       "    </tr>\n",
       "  </thead>\n",
       "  <tbody>\n",
       "    <tr>\n",
       "      <th>0</th>\n",
       "      <td>POLYGON ((4.809169993445193 7.485579483736418,...</td>\n",
       "    </tr>\n",
       "    <tr>\n",
       "      <th>1</th>\n",
       "      <td>POLYGON ((9.88207874098484 2.912881076233672, ...</td>\n",
       "    </tr>\n",
       "    <tr>\n",
       "      <th>2</th>\n",
       "      <td>POLYGON ((1.349639256892491 2.917969926895062,...</td>\n",
       "    </tr>\n",
       "    <tr>\n",
       "      <th>3</th>\n",
       "      <td>POLYGON ((7.389799996736098 2.323269285988297,...</td>\n",
       "    </tr>\n",
       "    <tr>\n",
       "      <th>4</th>\n",
       "      <td>POLYGON ((4.959510499133826 7.812101300098615,...</td>\n",
       "    </tr>\n",
       "    <tr>\n",
       "      <th>5</th>\n",
       "      <td>POLYGON ((3.506530966892558 8.125585562111162,...</td>\n",
       "    </tr>\n",
       "    <tr>\n",
       "      <th>6</th>\n",
       "      <td>POLYGON ((9.471410583460164 2.894942850547114,...</td>\n",
       "    </tr>\n",
       "    <tr>\n",
       "      <th>7</th>\n",
       "      <td>POLYGON ((3.478339387475361 -0.097878288488531...</td>\n",
       "    </tr>\n",
       "    <tr>\n",
       "      <th>8</th>\n",
       "      <td>POLYGON ((1.510999120434057 7.388593757523167,...</td>\n",
       "    </tr>\n",
       "    <tr>\n",
       "      <th>9</th>\n",
       "      <td>POLYGON ((9.328191892070626 7.002376985007119,...</td>\n",
       "    </tr>\n",
       "  </tbody>\n",
       "</table>\n",
       "</div>"
      ],
      "text/plain": [
       "                                            geometry\n",
       "0  POLYGON ((4.809169993445193 7.485579483736418,...\n",
       "1  POLYGON ((9.88207874098484 2.912881076233672, ...\n",
       "2  POLYGON ((1.349639256892491 2.917969926895062,...\n",
       "3  POLYGON ((7.389799996736098 2.323269285988297,...\n",
       "4  POLYGON ((4.959510499133826 7.812101300098615,...\n",
       "5  POLYGON ((3.506530966892558 8.125585562111162,...\n",
       "6  POLYGON ((9.471410583460164 2.894942850547114,...\n",
       "7  POLYGON ((3.478339387475361 -0.097878288488531...\n",
       "8  POLYGON ((1.510999120434057 7.388593757523167,...\n",
       "9  POLYGON ((9.328191892070626 7.002376985007119,..."
      ]
     },
     "execution_count": 8,
     "metadata": {},
     "output_type": "execute_result"
    }
   ],
   "source": [
    "buffers.voronoi_polygons(X)"
   ]
  },
  {
   "cell_type": "code",
   "execution_count": null,
   "metadata": {},
   "outputs": [],
   "source": []
  }
 ],
 "metadata": {
  "kernelspec": {
   "display_name": "Python [conda env:disarm]",
   "language": "python",
   "name": "conda-env-disarm-py"
  },
  "language_info": {
   "codemirror_mode": {
    "name": "ipython",
    "version": 3
   },
   "file_extension": ".py",
   "mimetype": "text/x-python",
   "name": "python",
   "nbconvert_exporter": "python",
   "pygments_lexer": "ipython3",
   "version": "3.6.3"
  }
 },
 "nbformat": 4,
 "nbformat_minor": 2
}
